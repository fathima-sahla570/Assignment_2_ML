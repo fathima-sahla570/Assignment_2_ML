{
 "cells": [
  {
   "cell_type": "code",
   "execution_count": 34,
   "id": "8340a313-24a7-4347-9a5f-a86010a69c86",
   "metadata": {},
   "outputs": [],
   "source": [
    "import pandas as pd\n",
    "import matplotlib.pyplot as plt\n",
    "from sklearn.preprocessing import LabelEncoder,StandardScaler, MinMaxScaler\n",
    "\n",
    "\n",
    "\n",
    "\n",
    "file_path = \"Employee.csv\"\n",
    "df = pd.read_csv(file_path)\n",
    "\n"
   ]
  },
  {
   "cell_type": "code",
   "execution_count": 36,
   "id": "ab3791a1-e379-4345-b67d-d56f2fcbbbc2",
   "metadata": {},
   "outputs": [
    {
     "name": "stdout",
     "output_type": "stream",
     "text": [
      "Identifying unique values in each feature and determines their length :-\n",
      "Unique values in Company: ['TCS' 'Infosys' 'CTS' nan 'Tata Consultancy Services' 'Congnizant'\n",
      " 'Infosys Pvt Lmt']\n",
      "Length of unique values in Company: 7\n",
      "\n",
      "Unique values in Age: [20. 30. 35. 40. 23. nan 34. 45. 18. 22. 32. 37. 50. 21. 46. 36. 26. 41.\n",
      " 24. 25. 43. 19. 38. 51. 31. 44. 33. 17.  0. 54.]\n",
      "Length of unique values in Age: 30\n",
      "\n",
      "Unique values in Salary: [  nan 2300. 3000. 4000. 5000. 6000. 7000. 8000. 9000. 1089. 1234. 3030.\n",
      " 3045. 3184. 4824. 5835. 7084. 8943. 8345. 9284. 9876. 2034. 7654. 2934.\n",
      " 4034. 5034. 8202. 9024. 4345. 6544. 6543. 3234. 4324. 5435. 5555. 8787.\n",
      " 3454. 5654. 5009. 5098. 3033.]\n",
      "Length of unique values in Salary: 41\n",
      "\n",
      "Unique values in Place: ['Chennai' 'Mumbai' 'Calcutta' 'Delhi' 'Podicherry' 'Cochin' nan 'Noida'\n",
      " 'Hyderabad' 'Bhopal' 'Nagpur' 'Pune']\n",
      "Length of unique values in Place: 12\n",
      "\n",
      "Unique values in Country: ['India']\n",
      "Length of unique values in Country: 1\n",
      "\n",
      "Unique values in Gender: [0 1]\n",
      "Length of unique values in Gender: 2\n",
      "\n",
      "statistical analysis and renaming the columns:-\n",
      "              Age       Salary      Gender\n",
      "count  130.000000   124.000000  148.000000\n",
      "mean    30.484615  5312.467742    0.222973\n",
      "std     11.096640  2573.764683    0.417654\n",
      "min      0.000000  1089.000000    0.000000\n",
      "25%     22.000000  3030.000000    0.000000\n",
      "50%     32.500000  5000.000000    0.000000\n",
      "75%     37.750000  8000.000000    0.000000\n",
      "max     54.000000  9876.000000    1.000000\n"
     ]
    }
   ],
   "source": [
    "# 1. Data Exploration\n",
    "#-----------------------------------------------------------------------------------\n",
    "print(\"Identifying unique values in each feature and determines their length :-\")\n",
    "for column in df.columns:\n",
    "    unique_values = df[column].unique()\n",
    "    print(f\"Unique values in {column}: {unique_values}\")\n",
    "    print(f\"Length of unique values in {column}: {len(unique_values)}\\n\")\n",
    "\n",
    "\n",
    "print(\"statistical analysis and renaming the columns:-\")\n",
    "print(df.describe())\n",
    "\n",
    "df.rename(columns={'Place': 'City', 'Gender': 'Is_Female'}, inplace=True)\n"
   ]
  },
  {
   "cell_type": "code",
   "execution_count": 38,
   "id": "c8318b07-cceb-40b8-8da7-622e185974ca",
   "metadata": {},
   "outputs": [
    {
     "name": "stdout",
     "output_type": "stream",
     "text": [
      "\n",
      "\n",
      "Finding the missing and inappropriate values:-\n",
      "Company       8\n",
      "Age          18\n",
      "Salary       24\n",
      "City         14\n",
      "Country       0\n",
      "Is_Female     0\n",
      "dtype: int64\n",
      "removing all duplicate rows :-\n",
      "Identifying and handle outliers:- \n",
      "Outliers in Salary: Empty DataFrame\n",
      "Columns: [Company, Age, Salary, City, Country, Is_Female]\n",
      "Index: []\n"
     ]
    }
   ],
   "source": [
    "# 2. Data Cleaning\n",
    "#----------------------------------------------------------\n",
    "print(\"\\n\\nFinding the missing and inappropriate values:-\")\n",
    "\n",
    "print(df.isnull().sum())\n",
    "\n",
    "df['Age'] = df['Age'].replace(0, float('nan'))\n",
    "df['Age'] = df['Age'].fillna(df['Age'].median())\n",
    "df['Salary'] = df['Salary'].fillna(df['Salary'].median())\n",
    "df['City'] = df['City'].fillna('Unknown')\n",
    "df['Country'] = df['Country'].fillna('India')\n",
    "\n",
    "\n",
    "\n",
    "print(\"removing all duplicate rows :-\")\n",
    "df.drop_duplicates(inplace=True)\n",
    "\n",
    "print(\"Identifying and handle outliers:- \")\n",
    "Q1 = df['Salary'].quantile(0.25)\n",
    "Q3 = df['Salary'].quantile(0.75)\n",
    "IQR = Q3 - Q1\n",
    "\n",
    "outliers = df[(df['Salary'] < (Q1 - 1.5 * IQR)) | (df['Salary'] > (Q3 + 1.5 * IQR))]\n",
    "print(\"Outliers in Salary:\", outliers)\n",
    "df['Salary'] = df['Salary'].clip(lower=Q1 - 1.5 * IQR, upper=Q3 + 1.5 * IQR)\n",
    "\n",
    "\n",
    "\n",
    "\n"
   ]
  },
  {
   "cell_type": "code",
   "execution_count": 40,
   "id": "22592367-e9e0-45b4-9ee2-c27eb772995b",
   "metadata": {},
   "outputs": [
    {
     "name": "stdout",
     "output_type": "stream",
     "text": [
      "\n",
      "\n",
      "Filtering data with age > 40 and salary < 5000 :-\n",
      "     Company   Age  Salary       City Country  Is_Female\n",
      "21   Infosys  50.0  3184.0      Delhi   India          0\n",
      "32   Infosys  45.0  4034.0   Calcutta   India          0\n",
      "39   Infosys  41.0  3000.0     Mumbai   India          0\n",
      "50   Infosys  41.0  3000.0    Chennai   India          0\n",
      "57   Infosys  51.0  3184.0  Hyderabad   India          0\n",
      "68   Infosys  43.0  4034.0     Mumbai   India          0\n",
      "75   Infosys  44.0  3000.0     Cochin   India          0\n",
      "86   Infosys  41.0  3000.0      Delhi   India          0\n",
      "93   Infosys  54.0  3184.0     Mumbai   India          0\n",
      "104  Infosys  44.0  4034.0      Delhi   India          0\n",
      "122  Infosys  44.0  3234.0     Mumbai   India          0\n",
      "129  Infosys  50.0  3184.0   Calcutta   India          0\n",
      "138      CTS  44.0  3033.0     Cochin   India          0\n",
      "140  Infosys  44.0  4034.0  Hyderabad   India          0\n",
      "145  Infosys  44.0  4034.0      Delhi   India          1\n",
      "\n",
      "Plot a chart with age and salary:- \n"
     ]
    },
    {
     "data": {
      "image/png": "[encoded data removed]",
      "text/plain": [
       "<Figure size 640x480 with 1 Axes>"
      ]
     },
     "metadata": {},
     "output_type": "display_data"
    },
    {
     "name": "stdout",
     "output_type": "stream",
     "text": [
      "\n",
      "Counting the number of people from each places:- \n"
     ]
    },
    {
     "data": {
      "image/png": "[encoded data removed]",
      "text/plain": [
       "<Figure size 640x480 with 1 Axes>"
      ]
     },
     "metadata": {},
     "output_type": "display_data"
    }
   ],
   "source": [
    "# 3. Data Analysis\n",
    "#--------------------------------------------------------------\n",
    "print(\"\\n\\nFiltering data with age > 40 and salary < 5000 :-\")\n",
    "filtered_data = df[(df['Age'] > 40) & (df['Salary'] < 5000)]\n",
    "print(filtered_data)\n",
    "\n",
    "print(\"\\nPlot a chart with age and salary:- \")\n",
    "plt.scatter(df['Age'], df['Salary'])\n",
    "plt.xlabel('Age')\n",
    "plt.ylabel('Salary')\n",
    "plt.title('Age vs Salary')\n",
    "plt.show()\n",
    "\n",
    "print(\"\\nCounting the number of people from each places:- \")\n",
    "place_counts = df['City'].value_counts()\n",
    "place_counts.plot(kind='bar')\n",
    "plt.xlabel('City')\n",
    "plt.ylabel('Number of People')\n",
    "plt.title('Number of People from Each City')\n",
    "plt.show()\n",
    "\n"
   ]
  },
  {
   "cell_type": "code",
   "execution_count": 46,
   "id": "bd47e050-d27d-48a2-9ddb-aaa623de75a7",
   "metadata": {},
   "outputs": [
    {
     "name": "stdout",
     "output_type": "stream",
     "text": [
      "\n",
      "\n",
      "Encoding Categorical Variables...\n"
     ]
    },
    {
     "ename": "KeyError",
     "evalue": "\"None of [Index(['Company', 'City'], dtype='object')] are in the [columns]\"",
     "output_type": "error",
     "traceback": [
      "\u001b[1;31m---------------------------------------------------------------------------\u001b[0m",
      "\u001b[1;31mKeyError\u001b[0m                                  Traceback (most recent call last)",
      "Cell \u001b[1;32mIn[46], line 11\u001b[0m\n\u001b[0;32m      9\u001b[0m \u001b[38;5;66;03m# Apply one-hot encoding\u001b[39;00m\n\u001b[0;32m     10\u001b[0m categorical_columns \u001b[38;5;241m=\u001b[39m [\u001b[38;5;124m'\u001b[39m\u001b[38;5;124mCompany\u001b[39m\u001b[38;5;124m'\u001b[39m, \u001b[38;5;124m'\u001b[39m\u001b[38;5;124mCity\u001b[39m\u001b[38;5;124m'\u001b[39m]\n\u001b[1;32m---> 11\u001b[0m df \u001b[38;5;241m=\u001b[39m pd\u001b[38;5;241m.\u001b[39mget_dummies(df, columns\u001b[38;5;241m=\u001b[39mcategorical_columns, drop_first\u001b[38;5;241m=\u001b[39m\u001b[38;5;28;01mTrue\u001b[39;00m)\n",
      "File \u001b[1;32m~\\anaconda3\\Lib\\site-packages\\pandas\\core\\reshape\\encoding.py:169\u001b[0m, in \u001b[0;36mget_dummies\u001b[1;34m(data, prefix, prefix_sep, dummy_na, columns, sparse, drop_first, dtype)\u001b[0m\n\u001b[0;32m    167\u001b[0m     \u001b[38;5;28;01mraise\u001b[39;00m \u001b[38;5;167;01mTypeError\u001b[39;00m(\u001b[38;5;124m\"\u001b[39m\u001b[38;5;124mInput must be a list-like for parameter `columns`\u001b[39m\u001b[38;5;124m\"\u001b[39m)\n\u001b[0;32m    168\u001b[0m \u001b[38;5;28;01melse\u001b[39;00m:\n\u001b[1;32m--> 169\u001b[0m     data_to_encode \u001b[38;5;241m=\u001b[39m data[columns]\n\u001b[0;32m    171\u001b[0m \u001b[38;5;66;03m# validate prefixes and separator to avoid silently dropping cols\u001b[39;00m\n\u001b[0;32m    172\u001b[0m \u001b[38;5;28;01mdef\u001b[39;00m \u001b[38;5;21mcheck_len\u001b[39m(item, name: \u001b[38;5;28mstr\u001b[39m):\n",
      "File \u001b[1;32m~\\anaconda3\\Lib\\site-packages\\pandas\\core\\frame.py:4108\u001b[0m, in \u001b[0;36mDataFrame.__getitem__\u001b[1;34m(self, key)\u001b[0m\n\u001b[0;32m   4106\u001b[0m     \u001b[38;5;28;01mif\u001b[39;00m is_iterator(key):\n\u001b[0;32m   4107\u001b[0m         key \u001b[38;5;241m=\u001b[39m \u001b[38;5;28mlist\u001b[39m(key)\n\u001b[1;32m-> 4108\u001b[0m     indexer \u001b[38;5;241m=\u001b[39m \u001b[38;5;28mself\u001b[39m\u001b[38;5;241m.\u001b[39mcolumns\u001b[38;5;241m.\u001b[39m_get_indexer_strict(key, \u001b[38;5;124m\"\u001b[39m\u001b[38;5;124mcolumns\u001b[39m\u001b[38;5;124m\"\u001b[39m)[\u001b[38;5;241m1\u001b[39m]\n\u001b[0;32m   4110\u001b[0m \u001b[38;5;66;03m# take() does not accept boolean indexers\u001b[39;00m\n\u001b[0;32m   4111\u001b[0m \u001b[38;5;28;01mif\u001b[39;00m \u001b[38;5;28mgetattr\u001b[39m(indexer, \u001b[38;5;124m\"\u001b[39m\u001b[38;5;124mdtype\u001b[39m\u001b[38;5;124m\"\u001b[39m, \u001b[38;5;28;01mNone\u001b[39;00m) \u001b[38;5;241m==\u001b[39m \u001b[38;5;28mbool\u001b[39m:\n",
      "File \u001b[1;32m~\\anaconda3\\Lib\\site-packages\\pandas\\core\\indexes\\base.py:6200\u001b[0m, in \u001b[0;36mIndex._get_indexer_strict\u001b[1;34m(self, key, axis_name)\u001b[0m\n\u001b[0;32m   6197\u001b[0m \u001b[38;5;28;01melse\u001b[39;00m:\n\u001b[0;32m   6198\u001b[0m     keyarr, indexer, new_indexer \u001b[38;5;241m=\u001b[39m \u001b[38;5;28mself\u001b[39m\u001b[38;5;241m.\u001b[39m_reindex_non_unique(keyarr)\n\u001b[1;32m-> 6200\u001b[0m \u001b[38;5;28mself\u001b[39m\u001b[38;5;241m.\u001b[39m_raise_if_missing(keyarr, indexer, axis_name)\n\u001b[0;32m   6202\u001b[0m keyarr \u001b[38;5;241m=\u001b[39m \u001b[38;5;28mself\u001b[39m\u001b[38;5;241m.\u001b[39mtake(indexer)\n\u001b[0;32m   6203\u001b[0m \u001b[38;5;28;01mif\u001b[39;00m \u001b[38;5;28misinstance\u001b[39m(key, Index):\n\u001b[0;32m   6204\u001b[0m     \u001b[38;5;66;03m# GH 42790 - Preserve name from an Index\u001b[39;00m\n",
      "File \u001b[1;32m~\\anaconda3\\Lib\\site-packages\\pandas\\core\\indexes\\base.py:6249\u001b[0m, in \u001b[0;36mIndex._raise_if_missing\u001b[1;34m(self, key, indexer, axis_name)\u001b[0m\n\u001b[0;32m   6247\u001b[0m \u001b[38;5;28;01mif\u001b[39;00m nmissing:\n\u001b[0;32m   6248\u001b[0m     \u001b[38;5;28;01mif\u001b[39;00m nmissing \u001b[38;5;241m==\u001b[39m \u001b[38;5;28mlen\u001b[39m(indexer):\n\u001b[1;32m-> 6249\u001b[0m         \u001b[38;5;28;01mraise\u001b[39;00m \u001b[38;5;167;01mKeyError\u001b[39;00m(\u001b[38;5;124mf\u001b[39m\u001b[38;5;124m\"\u001b[39m\u001b[38;5;124mNone of [\u001b[39m\u001b[38;5;132;01m{\u001b[39;00mkey\u001b[38;5;132;01m}\u001b[39;00m\u001b[38;5;124m] are in the [\u001b[39m\u001b[38;5;132;01m{\u001b[39;00maxis_name\u001b[38;5;132;01m}\u001b[39;00m\u001b[38;5;124m]\u001b[39m\u001b[38;5;124m\"\u001b[39m)\n\u001b[0;32m   6251\u001b[0m     not_found \u001b[38;5;241m=\u001b[39m \u001b[38;5;28mlist\u001b[39m(ensure_index(key)[missing_mask\u001b[38;5;241m.\u001b[39mnonzero()[\u001b[38;5;241m0\u001b[39m]]\u001b[38;5;241m.\u001b[39munique())\n\u001b[0;32m   6252\u001b[0m     \u001b[38;5;28;01mraise\u001b[39;00m \u001b[38;5;167;01mKeyError\u001b[39;00m(\u001b[38;5;124mf\u001b[39m\u001b[38;5;124m\"\u001b[39m\u001b[38;5;132;01m{\u001b[39;00mnot_found\u001b[38;5;132;01m}\u001b[39;00m\u001b[38;5;124m not in index\u001b[39m\u001b[38;5;124m\"\u001b[39m)\n",
      "\u001b[1;31mKeyError\u001b[0m: \"None of [Index(['Company', 'City'], dtype='object')] are in the [columns]\""
     ]
    }
   ],
   "source": [
    "# 4. Data Encoding\n",
    "# 4. Data Encoding (Score: 2)\n",
    "print(\"\\n\\nEncoding Categorical Variables...\")\n",
    "label_encoder = LabelEncoder()\n",
    "\n",
    "df['Is_Female'] = label_encoder.fit_transform(df['Is_Female'])\n",
    "df['Country'] = label_encoder.fit_transform(df['Country'])\n",
    "\n",
    "# Apply one-hot encoding\n",
    "categorical_columns = ['Company', 'City']\n",
    "df = pd.get_dummies(df, columns=categorical_columns, drop_first=True)\n",
    "\n"
   ]
  },
  {
   "cell_type": "code",
   "execution_count": 44,
   "id": "94259bae-32be-4483-bfb4-a1b6c7af8a11",
   "metadata": {},
   "outputs": [
    {
     "name": "stdout",
     "output_type": "stream",
     "text": [
      "\n",
      "\n",
      "Performing scaling of the features:- \n",
      "\n",
      "Standard Scaling\n",
      "\n",
      "Min-Max Scaling\n",
      "    Age  Salary  Country  Is_Female  Company_Congnizant  Company_Infosys  \\\n",
      "0  20.0  5000.0        0          0               False            False   \n",
      "1  30.0  5000.0        0          0               False             True   \n",
      "2  35.0  2300.0        0          0               False            False   \n",
      "3  40.0  3000.0        0          0               False             True   \n",
      "4  23.0  4000.0        0          0               False            False   \n",
      "\n",
      "   Company_Infosys Pvt Lmt  Company_TCS  Company_Tata Consultancy Services  \\\n",
      "0                    False         True                              False   \n",
      "1                    False        False                              False   \n",
      "2                    False         True                              False   \n",
      "3                    False        False                              False   \n",
      "4                    False         True                              False   \n",
      "\n",
      "   City_Calcutta  ...  City_Mumbai  City_Nagpur  City_Noida  City_Podicherry  \\\n",
      "0          False  ...        False        False       False            False   \n",
      "1          False  ...         True        False       False            False   \n",
      "2           True  ...        False        False       False            False   \n",
      "3          False  ...        False        False       False            False   \n",
      "4          False  ...         True        False       False            False   \n",
      "\n",
      "   City_Pune  City_Unknown  Age_Standard  Salary_Standard  Age_MinMax  \\\n",
      "0      False         False     -1.484676        -0.100827    0.081081   \n",
      "1      False         False     -0.267174        -0.100827    0.351351   \n",
      "2      False         False      0.341577        -1.243735    0.486486   \n",
      "3      False         False      0.950328        -0.947426    0.621622   \n",
      "4      False         False     -1.119426        -0.524127    0.162162   \n",
      "\n",
      "   Salary_MinMax  \n",
      "0       0.445089  \n",
      "1       0.445089  \n",
      "2       0.137817  \n",
      "3       0.217480  \n",
      "4       0.331285  \n",
      "\n",
      "[5 rows x 24 columns]\n"
     ]
    }
   ],
   "source": [
    "# 5. Feature Scaling\n",
    "#-----------------------------------------------------------------------------\n",
    "print(\"\\n\\nPerforming scaling of the features:- \")\n",
    "\n",
    "print(\"\\nStandard Scaling\")\n",
    "scaler_standard = StandardScaler()\n",
    "df_scaled_standard = scaler_standard.fit_transform(df[['Age', 'Salary']])\n",
    "\n",
    "print(\"\\nMin-Max Scaling\")\n",
    "scaler_minmax = MinMaxScaler()\n",
    "df_scaled_minmax = scaler_minmax.fit_transform(df[['Age', 'Salary']])\n",
    "\n",
    "df[['Age_Standard', 'Salary_Standard']] = df_scaled_standard\n",
    "df[['Age_MinMax', 'Salary_MinMax']] = df_scaled_minmax\n",
    "\n",
    "print(df.head())"
   ]
  },
  {
   "cell_type": "code",
   "execution_count": null,
   "id": "40e854ce-8a97-48b1-9c76-76b472fd3d1f",
   "metadata": {},
   "outputs": [],
   "source": []
  },
  {
   "cell_type": "code",
   "execution_count": null,
   "id": "f28373a5-a5b8-43f7-b2d7-54dae685db26",
   "metadata": {},
   "outputs": [],
   "source": []
  },
  {
   "cell_type": "code",
   "execution_count": null,
   "id": "04e0ea7f-412c-41d1-8711-d1a989644020",
   "metadata": {},
   "outputs": [],
   "source": []
  },
  {
   "cell_type": "code",
   "execution_count": null,
   "id": "8d5e3e8c-e6e3-45a4-ad33-4c4ffd9cbf83",
   "metadata": {},
   "outputs": [],
   "source": []
  },
  {
   "cell_type": "code",
   "execution_count": null,
   "id": "eec34543-6805-48a3-b6b4-4356725268fd",
   "metadata": {},
   "outputs": [],
   "source": []
  },
  {
   "cell_type": "code",
   "execution_count": null,
   "id": "a462a4ca-b7d2-440b-b590-bd9fabc85ae7",
   "metadata": {},
   "outputs": [],
   "source": []
  },
  {
   "cell_type": "code",
   "execution_count": null,
   "id": "3f92cf1f-039a-4ee4-913c-ed4137df42eb",
   "metadata": {},
   "outputs": [],
   "source": []
  },
  {
   "cell_type": "code",
   "execution_count": null,
   "id": "3283c688-63a8-470f-9ee4-e3f124eaca16",
   "metadata": {},
   "outputs": [],
   "source": []
  }
 ],
 "metadata": {
  "kernelspec": {
   "display_name": "Python 3 (ipykernel)",
   "language": "python",
   "name": "python3"
  },
  "language_info": {
   "codemirror_mode": {
    "name": "ipython",
    "version": 3
   },
   "file_extension": ".py",
   "mimetype": "text/x-python",
   "name": "python",
   "nbconvert_exporter": "python",
   "pygments_lexer": "ipython3",
   "version": "3.12.7"
  }
 },
 "nbformat": 4,
 "nbformat_minor": 5
}
